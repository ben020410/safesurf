{
 "cells": [
  {
   "cell_type": "code",
   "execution_count": 1,
   "metadata": {
    "id": "FUoWQRxJA1oq"
   },
   "outputs": [],
   "source": [
    "import pandas as pd\n",
    "import re\n",
    "from datetime import datetime\n",
    "\n",
    "from sklearn.model_selection import train_test_split\n",
    "from sklearn.ensemble import RandomForestClassifier\n",
    "import pickle"
   ]
  },
  {
   "cell_type": "code",
   "execution_count": 2,
   "metadata": {
    "id": "wVPt7qStA64y"
   },
   "outputs": [],
   "source": [
    "df = pd.read_csv(\"urldata.csv\")\n",
    "df = df.drop(columns=['result']) # 불필요한 column 제거"
   ]
  },
  {
   "cell_type": "code",
   "execution_count": 7,
   "metadata": {
    "colab": {
     "base_uri": "https://localhost:8080/",
     "height": 424
    },
    "id": "RCnHQRw6A8SR",
    "outputId": "bdf0ee72-01e4-4752-830e-081ba5eece75"
   },
   "outputs": [
    {
     "data": {
      "text/html": [
       "<div>\n",
       "<style scoped>\n",
       "    .dataframe tbody tr th:only-of-type {\n",
       "        vertical-align: middle;\n",
       "    }\n",
       "\n",
       "    .dataframe tbody tr th {\n",
       "        vertical-align: top;\n",
       "    }\n",
       "\n",
       "    .dataframe thead th {\n",
       "        text-align: right;\n",
       "    }\n",
       "</style>\n",
       "<table border=\"1\" class=\"dataframe\">\n",
       "  <thead>\n",
       "    <tr style=\"text-align: right;\">\n",
       "      <th></th>\n",
       "      <th>Unnamed: 0</th>\n",
       "      <th>url</th>\n",
       "      <th>label</th>\n",
       "    </tr>\n",
       "  </thead>\n",
       "  <tbody>\n",
       "    <tr>\n",
       "      <th>0</th>\n",
       "      <td>0</td>\n",
       "      <td>https://www.google.com</td>\n",
       "      <td>benign</td>\n",
       "    </tr>\n",
       "    <tr>\n",
       "      <th>1</th>\n",
       "      <td>1</td>\n",
       "      <td>https://www.youtube.com</td>\n",
       "      <td>benign</td>\n",
       "    </tr>\n",
       "    <tr>\n",
       "      <th>2</th>\n",
       "      <td>2</td>\n",
       "      <td>https://www.facebook.com</td>\n",
       "      <td>benign</td>\n",
       "    </tr>\n",
       "    <tr>\n",
       "      <th>3</th>\n",
       "      <td>3</td>\n",
       "      <td>https://www.baidu.com</td>\n",
       "      <td>benign</td>\n",
       "    </tr>\n",
       "    <tr>\n",
       "      <th>4</th>\n",
       "      <td>4</td>\n",
       "      <td>https://www.wikipedia.org</td>\n",
       "      <td>benign</td>\n",
       "    </tr>\n",
       "    <tr>\n",
       "      <th>...</th>\n",
       "      <td>...</td>\n",
       "      <td>...</td>\n",
       "      <td>...</td>\n",
       "    </tr>\n",
       "    <tr>\n",
       "      <th>450171</th>\n",
       "      <td>450171</td>\n",
       "      <td>http://ecct-it.com/docmmmnn/aptgd/index.php</td>\n",
       "      <td>malicious</td>\n",
       "    </tr>\n",
       "    <tr>\n",
       "      <th>450172</th>\n",
       "      <td>450172</td>\n",
       "      <td>http://faboleena.com/js/infortis/jquery/plugin...</td>\n",
       "      <td>malicious</td>\n",
       "    </tr>\n",
       "    <tr>\n",
       "      <th>450173</th>\n",
       "      <td>450173</td>\n",
       "      <td>http://faboleena.com/js/infortis/jquery/plugin...</td>\n",
       "      <td>malicious</td>\n",
       "    </tr>\n",
       "    <tr>\n",
       "      <th>450174</th>\n",
       "      <td>450174</td>\n",
       "      <td>http://atualizapj.com/</td>\n",
       "      <td>malicious</td>\n",
       "    </tr>\n",
       "    <tr>\n",
       "      <th>450175</th>\n",
       "      <td>450175</td>\n",
       "      <td>http://writeassociate.com/test/Portal/inicio/I...</td>\n",
       "      <td>malicious</td>\n",
       "    </tr>\n",
       "  </tbody>\n",
       "</table>\n",
       "<p>450176 rows × 3 columns</p>\n",
       "</div>"
      ],
      "text/plain": [
       "        Unnamed: 0                                                url  \\\n",
       "0                0                             https://www.google.com   \n",
       "1                1                            https://www.youtube.com   \n",
       "2                2                           https://www.facebook.com   \n",
       "3                3                              https://www.baidu.com   \n",
       "4                4                          https://www.wikipedia.org   \n",
       "...            ...                                                ...   \n",
       "450171      450171        http://ecct-it.com/docmmmnn/aptgd/index.php   \n",
       "450172      450172  http://faboleena.com/js/infortis/jquery/plugin...   \n",
       "450173      450173  http://faboleena.com/js/infortis/jquery/plugin...   \n",
       "450174      450174                             http://atualizapj.com/   \n",
       "450175      450175  http://writeassociate.com/test/Portal/inicio/I...   \n",
       "\n",
       "            label  \n",
       "0          benign  \n",
       "1          benign  \n",
       "2          benign  \n",
       "3          benign  \n",
       "4          benign  \n",
       "...           ...  \n",
       "450171  malicious  \n",
       "450172  malicious  \n",
       "450173  malicious  \n",
       "450174  malicious  \n",
       "450175  malicious  \n",
       "\n",
       "[450176 rows x 3 columns]"
      ]
     },
     "execution_count": 7,
     "metadata": {},
     "output_type": "execute_result"
    }
   ],
   "source": [
    "df"
   ]
  },
  {
   "cell_type": "code",
   "execution_count": 9,
   "metadata": {
    "id": "pEMvF2d_A_YG"
   },
   "outputs": [],
   "source": [
    "# 특질 추출 함수\n",
    "def extract_features(url):\n",
    "    # Feature 1: URL 길이\n",
    "    url_length = len(url)\n",
    "\n",
    "    # Feature 2: 특정 특수문자 개수 (!, #, @, %, - 등)\n",
    "    special_char_count = len(re.findall(r'[!#@%\\-_]', url))\n",
    "\n",
    "    # Feature 3: 특정 단어 포함 여부 (login, admin, confirm, .exe, 000webhost 등)\n",
    "    specific_words = ['login', 'admin', 'confirm', '.exe', '000webhost', 'secure', 'account', 'update', 'verify']\n",
    "    contains_specific_word = any(word in url for word in specific_words)\n",
    "\n",
    "    # Feature 4: 숫자 구성 비율\n",
    "    num_digits = sum(c.isdigit() for c in url)\n",
    "    digit_ratio = num_digits / len(url)\n",
    "\n",
    "    # Feature 5: @ 기호 이후 도메인 여부\n",
    "    contains_at_symbol_domain = int('@' in url and re.search(r'@[\\w.-]+', url) is not None)\n",
    "\n",
    "    # Feature 6: Path 및 Query String 길이\n",
    "    path_length = len(re.findall(r'/[\\w.-]+', url))  # 경로 요소 길이\n",
    "    query_length = len(re.findall(r'\\?.+', url))     # 쿼리 스트링 길이\n",
    "\n",
    "    # Feature 7: N-gram 특질 (bigram 예시)\n",
    "    ngrams = re.findall(r'..', url)  # Bigram\n",
    "    ngram_count = len(ngrams)\n",
    "\n",
    "    return (\n",
    "        url_length, special_char_count, int(contains_specific_word), digit_ratio,\n",
    "        contains_at_symbol_domain, path_length, query_length, ngram_count\n",
    "    )"
   ]
  },
  {
   "cell_type": "code",
   "execution_count": 10,
   "metadata": {
    "id": "28PEicl9BDem"
   },
   "outputs": [],
   "source": [
    "# 각 특질 열을 추가\n",
    "df[['url_length', 'special_char_count', 'contains_specific_word', 'digit_ratio',\n",
    "    'contains_at_symbol_domain', 'path_length', 'query_length', 'ngram_count']] = df['url'].apply(lambda x: pd.Series(extract_features(x)))\n",
    "\n",
    "# Feature와 Label 정의\n",
    "X = df[['url_length', 'special_char_count', 'contains_specific_word', 'digit_ratio',\n",
    "        'contains_at_symbol_domain', 'path_length', 'query_length', 'ngram_count']]\n",
    "y = df['label']  # 클래스 컬럼 (benign, malicious)"
   ]
  },
  {
   "cell_type": "code",
   "execution_count": 11,
   "metadata": {
    "id": "fUkVDvm6BNQ3"
   },
   "outputs": [],
   "source": [
    "# 학습 및 테스트 데이터 분할\n",
    "from sklearn.model_selection import train_test_split\n",
    "X_train, X_test, y_train, y_test = train_test_split(X, y, test_size=0.2, random_state=42)\n",
    "\n",
    "# 모델 학습\n",
    "from sklearn.ensemble import RandomForestClassifier\n",
    "model = RandomForestClassifier(random_state=42)\n",
    "model.fit(X_train, y_train)\n",
    "\n",
    "# 예측\n",
    "y_pred = model.predict(X_test)"
   ]
  },
  {
   "cell_type": "code",
   "execution_count": 12,
   "metadata": {
    "colab": {
     "base_uri": "https://localhost:8080/"
    },
    "id": "th_tXgroBQpZ",
    "outputId": "69ab1713-41e8-4fc0-a284-41345c8d94b7"
   },
   "outputs": [
    {
     "name": "stdout",
     "output_type": "stream",
     "text": [
      "Accuracy: 0.8806366342351948\n",
      "\n",
      "Classification Report:\n",
      "               precision    recall  f1-score   support\n",
      "\n",
      "      benign       0.89      0.96      0.92     68921\n",
      "   malicious       0.83      0.62      0.71     21115\n",
      "\n",
      "    accuracy                           0.88     90036\n",
      "   macro avg       0.86      0.79      0.82     90036\n",
      "weighted avg       0.88      0.88      0.87     90036\n",
      "\n"
     ]
    }
   ],
   "source": [
    "# 결과 평가\n",
    "from sklearn.metrics import accuracy_score, classification_report\n",
    "print(\"Accuracy:\", accuracy_score(y_test, y_pred))\n",
    "print(\"\\nClassification Report:\\n\", classification_report(y_test, y_pred))"
   ]
  },
  {
   "cell_type": "code",
   "execution_count": 13,
   "metadata": {},
   "outputs": [],
   "source": [
    "# 모델 저장\n",
    "with open(\"model.pkl\", \"wb\") as model_file:\n",
    "    pickle.dump(model, model_file)"
   ]
  }
 ],
 "metadata": {
  "colab": {
   "provenance": []
  },
  "kernelspec": {
   "display_name": "Python 3",
   "name": "python3"
  },
  "language_info": {
   "codemirror_mode": {
    "name": "ipython",
    "version": 3
   },
   "file_extension": ".py",
   "mimetype": "text/x-python",
   "name": "python",
   "nbconvert_exporter": "python",
   "pygments_lexer": "ipython3",
   "version": "3.8.0"
  }
 },
 "nbformat": 4,
 "nbformat_minor": 0
}
